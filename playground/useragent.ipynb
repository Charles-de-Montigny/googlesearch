{
 "cells": [
  {
   "cell_type": "markdown",
   "metadata": {},
   "source": [
    "# User Agents Generators"
   ]
  },
  {
   "cell_type": "code",
   "execution_count": 1,
   "metadata": {},
   "outputs": [],
   "source": [
    "import numpy as np\n",
    "import pandas as pd\n",
    "\n",
    "from useragents import USER_AGENTS as user_agents"
   ]
  },
  {
   "cell_type": "code",
   "execution_count": 2,
   "metadata": {},
   "outputs": [],
   "source": [
    "df = pd.DataFrame()"
   ]
  },
  {
   "cell_type": "code",
   "execution_count": 3,
   "metadata": {},
   "outputs": [],
   "source": [
    "df['user_agents'] = user_agents"
   ]
  },
  {
   "cell_type": "code",
   "execution_count": 4,
   "metadata": {},
   "outputs": [],
   "source": [
    "df['windows'] = df['user_agents'].apply(lambda x: int(\"Windows\" in x))\n",
    "df['macintosh'] = df['user_agents'].apply(lambda x: int(\"Macintosh\" in x))\n",
    "df['linux'] = df['user_agents'].apply(lambda x: int((\"Linux\" in x) and (\"Android\" not in x)))\n",
    "df['iphone'] = df['user_agents'].apply(lambda x: int(\"iPhone\" in x))\n",
    "df['android'] = df['user_agents'].apply(lambda x: int(\"Android\" in x))\n",
    "df['ipad'] = df['user_agents'].apply(lambda x: int(\"iPad\" in x))\n",
    "df = df.loc[df.sum(axis=1) == 1]\n",
    "df.reset_index(drop=True, inplace=True)"
   ]
  },
  {
   "cell_type": "code",
   "execution_count": 5,
   "metadata": {},
   "outputs": [],
   "source": [
    "df['mobile'] = np.where(df[['iphone', 'android', 'ipad']].sum(axis=1) == 1, 1, 0)\n",
    "df['desktop'] = np.where(df[['windows', 'macintosh', 'linux']].sum(axis=1) == 1, 1, 0)"
   ]
  },
  {
   "cell_type": "code",
   "execution_count": 6,
   "metadata": {},
   "outputs": [
    {
     "data": {
      "text/plain": [
       "1.0"
      ]
     },
     "execution_count": 6,
     "metadata": {},
     "output_type": "execute_result"
    }
   ],
   "source": [
    "sum(df[['mobile', 'desktop']].sum(axis=1) == 1) / len(df)"
   ]
  },
  {
   "cell_type": "code",
   "execution_count": 7,
   "metadata": {},
   "outputs": [
    {
     "data": {
      "text/plain": [
       "1.0"
      ]
     },
     "execution_count": 7,
     "metadata": {},
     "output_type": "execute_result"
    }
   ],
   "source": [
    "df[['windows', 'iphone', 'android', 'macintosh', 'ipad', 'linux']].sum().sum() / len(df)"
   ]
  },
  {
   "cell_type": "code",
   "execution_count": 30,
   "metadata": {},
   "outputs": [
    {
     "ename": "TypeError",
     "evalue": "pivot() missing 1 required argument: 'columns'",
     "output_type": "error",
     "traceback": [
      "\u001b[0;31m---------------------------------------------------------------------------\u001b[0m",
      "\u001b[0;31mTypeError\u001b[0m                                 Traceback (most recent call last)",
      "\u001b[0;32m<ipython-input-30-bad1245bd5a2>\u001b[0m in \u001b[0;36m<module>\u001b[0;34m\u001b[0m\n\u001b[0;32m----> 1\u001b[0;31m \u001b[0mdf\u001b[0m\u001b[0;34m.\u001b[0m\u001b[0mpivot\u001b[0m\u001b[0;34m(\u001b[0m\u001b[0mindex\u001b[0m\u001b[0;34m=\u001b[0m\u001b[0;34m\"user_agents\"\u001b[0m\u001b[0;34m,\u001b[0m \u001b[0mvalues\u001b[0m\u001b[0;34m=\u001b[0m\u001b[0;34m[\u001b[0m\u001b[0;34m'windows'\u001b[0m\u001b[0;34m,\u001b[0m \u001b[0;34m'macintosh'\u001b[0m\u001b[0;34m,\u001b[0m \u001b[0;34m'linux'\u001b[0m\u001b[0;34m]\u001b[0m\u001b[0;34m)\u001b[0m\u001b[0;34m\u001b[0m\u001b[0;34m\u001b[0m\u001b[0m\n\u001b[0m",
      "\u001b[0;32m/usr/local/lib/python3.9/site-packages/pandas/core/frame.py\u001b[0m in \u001b[0;36mpivot\u001b[0;34m(self, index, columns, values)\u001b[0m\n\u001b[1;32m   6877\u001b[0m         \u001b[0;32mfrom\u001b[0m \u001b[0mpandas\u001b[0m\u001b[0;34m.\u001b[0m\u001b[0mcore\u001b[0m\u001b[0;34m.\u001b[0m\u001b[0mreshape\u001b[0m\u001b[0;34m.\u001b[0m\u001b[0mpivot\u001b[0m \u001b[0;32mimport\u001b[0m \u001b[0mpivot\u001b[0m\u001b[0;34m\u001b[0m\u001b[0;34m\u001b[0m\u001b[0m\n\u001b[1;32m   6878\u001b[0m \u001b[0;34m\u001b[0m\u001b[0m\n\u001b[0;32m-> 6879\u001b[0;31m         \u001b[0;32mreturn\u001b[0m \u001b[0mpivot\u001b[0m\u001b[0;34m(\u001b[0m\u001b[0mself\u001b[0m\u001b[0;34m,\u001b[0m \u001b[0mindex\u001b[0m\u001b[0;34m=\u001b[0m\u001b[0mindex\u001b[0m\u001b[0;34m,\u001b[0m \u001b[0mcolumns\u001b[0m\u001b[0;34m=\u001b[0m\u001b[0mcolumns\u001b[0m\u001b[0;34m,\u001b[0m \u001b[0mvalues\u001b[0m\u001b[0;34m=\u001b[0m\u001b[0mvalues\u001b[0m\u001b[0;34m)\u001b[0m\u001b[0;34m\u001b[0m\u001b[0;34m\u001b[0m\u001b[0m\n\u001b[0m\u001b[1;32m   6880\u001b[0m \u001b[0;34m\u001b[0m\u001b[0m\n\u001b[1;32m   6881\u001b[0m     _shared_docs[\n",
      "\u001b[0;32m/usr/local/lib/python3.9/site-packages/pandas/core/reshape/pivot.py\u001b[0m in \u001b[0;36mpivot\u001b[0;34m(data, index, columns, values)\u001b[0m\n\u001b[1;32m    428\u001b[0m ) -> \"DataFrame\":\n\u001b[1;32m    429\u001b[0m     \u001b[0;32mif\u001b[0m \u001b[0mcolumns\u001b[0m \u001b[0;32mis\u001b[0m \u001b[0;32mNone\u001b[0m\u001b[0;34m:\u001b[0m\u001b[0;34m\u001b[0m\u001b[0;34m\u001b[0m\u001b[0m\n\u001b[0;32m--> 430\u001b[0;31m         \u001b[0;32mraise\u001b[0m \u001b[0mTypeError\u001b[0m\u001b[0;34m(\u001b[0m\u001b[0;34m\"pivot() missing 1 required argument: 'columns'\"\u001b[0m\u001b[0;34m)\u001b[0m\u001b[0;34m\u001b[0m\u001b[0;34m\u001b[0m\u001b[0m\n\u001b[0m\u001b[1;32m    431\u001b[0m \u001b[0;34m\u001b[0m\u001b[0m\n\u001b[1;32m    432\u001b[0m     \u001b[0mcolumns\u001b[0m \u001b[0;34m=\u001b[0m \u001b[0mcom\u001b[0m\u001b[0;34m.\u001b[0m\u001b[0mconvert_to_list_like\u001b[0m\u001b[0;34m(\u001b[0m\u001b[0mcolumns\u001b[0m\u001b[0;34m)\u001b[0m\u001b[0;34m\u001b[0m\u001b[0;34m\u001b[0m\u001b[0m\n",
      "\u001b[0;31mTypeError\u001b[0m: pivot() missing 1 required argument: 'columns'"
     ]
    }
   ],
   "source": []
  },
  {
   "cell_type": "code",
   "execution_count": 9,
   "metadata": {},
   "outputs": [],
   "source": [
    "df.to_csv(\"user_agents.csv\", index=False)"
   ]
  },
  {
   "cell_type": "code",
   "execution_count": 10,
   "metadata": {},
   "outputs": [],
   "source": [
    "df.to_json('user_agents.json')"
   ]
  },
  {
   "cell_type": "code",
   "execution_count": 11,
   "metadata": {},
   "outputs": [],
   "source": [
    "df0 = pd.read_json(\"user_agents.json\")"
   ]
  },
  {
   "cell_type": "code",
   "execution_count": 27,
   "metadata": {},
   "outputs": [
    {
     "data": {
      "text/plain": [
       "'Mozilla/5.0 (Windows NT 6.2) AppleWebKit/534.54.16 (KHTML, like Gecko) Version/5.1.4 Safari/534.54.16'"
      ]
     },
     "execution_count": 27,
     "metadata": {},
     "output_type": "execute_result"
    }
   ],
   "source": [
    "df0.sample(1, random_state=None)['user_agents'].values[0]"
   ]
  },
  {
   "cell_type": "code",
   "execution_count": 25,
   "metadata": {},
   "outputs": [],
   "source": [
    "class UserAgents:\n",
    "\n",
    "    def __init__(self, json_path: str) -> None:\n",
    "        self.df: pd.DataFrame = pd.read_json(json_path)\n",
    "\n",
    "    @staticmethod\n",
    "    def _get(df, random_state: int = None) -> str:\n",
    "        user_agents = df.sample(\n",
    "            1, random_state=random_state\n",
    "            )['user_agents'].values[0]\n",
    "        return user_agents\n",
    "\n",
    "    def get(self, random_state: int = None) -> str:\n",
    "        \"\"\"\n",
    "        Get a random user agents.\n",
    "        \"\"\"\n",
    "        return self._get(self.df, random_state)\n",
    "\n",
    "    def get_by_device_or_os(self, device_or_os: str, random_state: int = None) -> str:\n",
    "        \"\"\"\n",
    "        Get a random user agents for a given device.\n",
    "        \"\"\"\n",
    "        df = self.df.query(f\"{device} == 1\")\n",
    "        return self._get(df, random_state)\n",
    "\n",
    "    def get_by_os(self, os: str, random_state: int = None) -> str:\n",
    "        \"\"\"\n",
    "        Get a random user agents for a given operating system (OS).\n",
    "        \"\"\"\n",
    "        df = self.df.query(f\"{}\")\n",
    "        return"
   ]
  },
  {
   "cell_type": "code",
   "execution_count": 31,
   "metadata": {},
   "outputs": [
    {
     "data": {
      "text/html": [
       "<div>\n",
       "<style scoped>\n",
       "    .dataframe tbody tr th:only-of-type {\n",
       "        vertical-align: middle;\n",
       "    }\n",
       "\n",
       "    .dataframe tbody tr th {\n",
       "        vertical-align: top;\n",
       "    }\n",
       "\n",
       "    .dataframe thead th {\n",
       "        text-align: right;\n",
       "    }\n",
       "</style>\n",
       "<table border=\"1\" class=\"dataframe\">\n",
       "  <thead>\n",
       "    <tr style=\"text-align: right;\">\n",
       "      <th></th>\n",
       "      <th>user_agents</th>\n",
       "      <th>windows</th>\n",
       "      <th>macintosh</th>\n",
       "      <th>linux</th>\n",
       "      <th>iphone</th>\n",
       "      <th>android</th>\n",
       "      <th>ipad</th>\n",
       "      <th>mobile</th>\n",
       "      <th>desktop</th>\n",
       "    </tr>\n",
       "  </thead>\n",
       "  <tbody>\n",
       "    <tr>\n",
       "      <th>462</th>\n",
       "      <td>Mozilla/5.0 (iPhone; CPU iPhone OS 9_3_2 like ...</td>\n",
       "      <td>0</td>\n",
       "      <td>0</td>\n",
       "      <td>0</td>\n",
       "      <td>1</td>\n",
       "      <td>0</td>\n",
       "      <td>0</td>\n",
       "      <td>1</td>\n",
       "      <td>0</td>\n",
       "    </tr>\n",
       "    <tr>\n",
       "      <th>657</th>\n",
       "      <td>Mozilla/5.0 (iPhone; CPU iPhone OS 10_2_1 like...</td>\n",
       "      <td>0</td>\n",
       "      <td>0</td>\n",
       "      <td>0</td>\n",
       "      <td>1</td>\n",
       "      <td>0</td>\n",
       "      <td>0</td>\n",
       "      <td>1</td>\n",
       "      <td>0</td>\n",
       "    </tr>\n",
       "    <tr>\n",
       "      <th>699</th>\n",
       "      <td>Mozilla/5.0 (iPhone; CPU iPhone OS 11_2_1 like...</td>\n",
       "      <td>0</td>\n",
       "      <td>0</td>\n",
       "      <td>0</td>\n",
       "      <td>1</td>\n",
       "      <td>0</td>\n",
       "      <td>0</td>\n",
       "      <td>1</td>\n",
       "      <td>0</td>\n",
       "    </tr>\n",
       "    <tr>\n",
       "      <th>726</th>\n",
       "      <td>Mozilla/5.0 (iPhone; CPU iPhone OS 10_3_3 like...</td>\n",
       "      <td>0</td>\n",
       "      <td>0</td>\n",
       "      <td>0</td>\n",
       "      <td>1</td>\n",
       "      <td>0</td>\n",
       "      <td>0</td>\n",
       "      <td>1</td>\n",
       "      <td>0</td>\n",
       "    </tr>\n",
       "    <tr>\n",
       "      <th>812</th>\n",
       "      <td>Mozilla/5.0 (iPhone; CPU iPhone OS 9_2 like Ma...</td>\n",
       "      <td>0</td>\n",
       "      <td>0</td>\n",
       "      <td>0</td>\n",
       "      <td>1</td>\n",
       "      <td>0</td>\n",
       "      <td>0</td>\n",
       "      <td>1</td>\n",
       "      <td>0</td>\n",
       "    </tr>\n",
       "    <tr>\n",
       "      <th>...</th>\n",
       "      <td>...</td>\n",
       "      <td>...</td>\n",
       "      <td>...</td>\n",
       "      <td>...</td>\n",
       "      <td>...</td>\n",
       "      <td>...</td>\n",
       "      <td>...</td>\n",
       "      <td>...</td>\n",
       "      <td>...</td>\n",
       "    </tr>\n",
       "    <tr>\n",
       "      <th>7305</th>\n",
       "      <td>Mozilla/5.0 (iPhone; U; CPU iPhone OS 5_1_1 li...</td>\n",
       "      <td>0</td>\n",
       "      <td>0</td>\n",
       "      <td>0</td>\n",
       "      <td>1</td>\n",
       "      <td>0</td>\n",
       "      <td>0</td>\n",
       "      <td>1</td>\n",
       "      <td>0</td>\n",
       "    </tr>\n",
       "    <tr>\n",
       "      <th>7307</th>\n",
       "      <td>Mozilla/5.0 (iPod; U; CPU iPhone OS 4_2_1 like...</td>\n",
       "      <td>0</td>\n",
       "      <td>0</td>\n",
       "      <td>0</td>\n",
       "      <td>1</td>\n",
       "      <td>0</td>\n",
       "      <td>0</td>\n",
       "      <td>1</td>\n",
       "      <td>0</td>\n",
       "    </tr>\n",
       "    <tr>\n",
       "      <th>7316</th>\n",
       "      <td>Mozilla/5.0 (iPod; U; CPU iPhone OS 221 like M...</td>\n",
       "      <td>0</td>\n",
       "      <td>0</td>\n",
       "      <td>0</td>\n",
       "      <td>1</td>\n",
       "      <td>0</td>\n",
       "      <td>0</td>\n",
       "      <td>1</td>\n",
       "      <td>0</td>\n",
       "    </tr>\n",
       "    <tr>\n",
       "      <th>7317</th>\n",
       "      <td>Mozilla/5.0 (iPhone; CPU iPhone OS 9_2 like Ma...</td>\n",
       "      <td>0</td>\n",
       "      <td>0</td>\n",
       "      <td>0</td>\n",
       "      <td>1</td>\n",
       "      <td>0</td>\n",
       "      <td>0</td>\n",
       "      <td>1</td>\n",
       "      <td>0</td>\n",
       "    </tr>\n",
       "    <tr>\n",
       "      <th>7318</th>\n",
       "      <td>Mozilla/5.0 (iPod; U; CPU iPhone OS 4_0 like M...</td>\n",
       "      <td>0</td>\n",
       "      <td>0</td>\n",
       "      <td>0</td>\n",
       "      <td>1</td>\n",
       "      <td>0</td>\n",
       "      <td>0</td>\n",
       "      <td>1</td>\n",
       "      <td>0</td>\n",
       "    </tr>\n",
       "  </tbody>\n",
       "</table>\n",
       "<p>468 rows × 9 columns</p>\n",
       "</div>"
      ],
      "text/plain": [
       "                                            user_agents  windows  macintosh  \\\n",
       "462   Mozilla/5.0 (iPhone; CPU iPhone OS 9_3_2 like ...        0          0   \n",
       "657   Mozilla/5.0 (iPhone; CPU iPhone OS 10_2_1 like...        0          0   \n",
       "699   Mozilla/5.0 (iPhone; CPU iPhone OS 11_2_1 like...        0          0   \n",
       "726   Mozilla/5.0 (iPhone; CPU iPhone OS 10_3_3 like...        0          0   \n",
       "812   Mozilla/5.0 (iPhone; CPU iPhone OS 9_2 like Ma...        0          0   \n",
       "...                                                 ...      ...        ...   \n",
       "7305  Mozilla/5.0 (iPhone; U; CPU iPhone OS 5_1_1 li...        0          0   \n",
       "7307  Mozilla/5.0 (iPod; U; CPU iPhone OS 4_2_1 like...        0          0   \n",
       "7316  Mozilla/5.0 (iPod; U; CPU iPhone OS 221 like M...        0          0   \n",
       "7317  Mozilla/5.0 (iPhone; CPU iPhone OS 9_2 like Ma...        0          0   \n",
       "7318  Mozilla/5.0 (iPod; U; CPU iPhone OS 4_0 like M...        0          0   \n",
       "\n",
       "      linux  iphone  android  ipad  mobile  desktop  \n",
       "462       0       1        0     0       1        0  \n",
       "657       0       1        0     0       1        0  \n",
       "699       0       1        0     0       1        0  \n",
       "726       0       1        0     0       1        0  \n",
       "812       0       1        0     0       1        0  \n",
       "...     ...     ...      ...   ...     ...      ...  \n",
       "7305      0       1        0     0       1        0  \n",
       "7307      0       1        0     0       1        0  \n",
       "7316      0       1        0     0       1        0  \n",
       "7317      0       1        0     0       1        0  \n",
       "7318      0       1        0     0       1        0  \n",
       "\n",
       "[468 rows x 9 columns]"
      ]
     },
     "execution_count": 31,
     "metadata": {},
     "output_type": "execute_result"
    }
   ],
   "source": [
    "device = \"iphone\"\n",
    "df.query(f\"{device} == 1\")"
   ]
  },
  {
   "cell_type": "code",
   "execution_count": null,
   "metadata": {},
   "outputs": [],
   "source": []
  }
 ],
 "metadata": {
  "interpreter": {
   "hash": "aee8b7b246df8f9039afb4144a1f6fd8d2ca17a180786b69acc140d282b71a49"
  },
  "kernelspec": {
   "display_name": "Python 3.9.10 64-bit",
   "language": "python",
   "name": "python3"
  },
  "language_info": {
   "codemirror_mode": {
    "name": "ipython",
    "version": 3
   },
   "file_extension": ".py",
   "mimetype": "text/x-python",
   "name": "python",
   "nbconvert_exporter": "python",
   "pygments_lexer": "ipython3",
   "version": "3.9.10"
  },
  "orig_nbformat": 4
 },
 "nbformat": 4,
 "nbformat_minor": 2
}
